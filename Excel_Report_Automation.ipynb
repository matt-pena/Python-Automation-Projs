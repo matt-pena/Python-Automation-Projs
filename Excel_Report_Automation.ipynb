{
 "cells": [
  {
   "cell_type": "code",
   "execution_count": 12,
   "id": "4083df8e",
   "metadata": {},
   "outputs": [],
   "source": [
    "import pandas as pd\n",
    "from openpyxl import load_workbook\n",
    "from openpyxl.chart import BarChart, Reference\n",
    "from openpyxl.utils import get_column_letter"
   ]
  },
  {
   "cell_type": "code",
   "execution_count": 6,
   "id": "c9dae127",
   "metadata": {},
   "outputs": [
    {
     "name": "stdout",
     "output_type": "stream",
     "text": [
      "Product line  Electronic accessories  Fashion accessories  Food and beverages  \\\n",
      "Gender                                                                          \n",
      "Female                    27102.0225            30437.400          33170.9175   \n",
      "Male                      27235.5090            23868.495          22973.9265   \n",
      "\n",
      "Product line  Health and beauty  Home and lifestyle  Sports and travel  \n",
      "Gender                                                                  \n",
      "Female               18560.9865          30036.8775         28574.7210  \n",
      "Male                 30632.7525          23825.0355         26548.1055  \n"
     ]
    }
   ],
   "source": [
    "df = pd.read_excel(\"supermarket_sales.xlsx\")\n",
    "\n",
    "#Grab Gender, Product line, and Total columns from supermarket_sales.xlsx\n",
    "df = df[[\"Gender\", \"Product line\", \"Total\"]]\n",
    "\n",
    "#Create pivot table with Gender as index rows, Product line as columns, and sum up the Total for each gender\n",
    "pivot_table = df.pivot_table(index=\"Gender\", columns=\"Product line\", values=\"Total\", aggfunc=\"sum\")\n",
    "print(pivot_table)"
   ]
  },
  {
   "cell_type": "code",
   "execution_count": 18,
   "id": "0c42b323",
   "metadata": {},
   "outputs": [],
   "source": [
    "#Save pivot table to Product_line_report.xlsx\n",
    "pivot_table.to_excel(\"Product_line_report.xlsx\", \"Report\", startrow=1)"
   ]
  },
  {
   "cell_type": "code",
   "execution_count": 19,
   "id": "44508553",
   "metadata": {},
   "outputs": [],
   "source": [
    "wb = load_workbook(\"product_line_report.xlsx\")\n",
    "sheet = wb['Report']\n",
    "\n",
    "min_column = wb.active.min_column\n",
    "max_column = wb.active.max_column\n",
    "min_row = wb.active.min_row\n",
    "max_row = wb.active.max_row\n",
    "\n",
    "bar = BarChart()\n",
    "\n",
    "#Grab cells to create a bar chart from\n",
    "data = Reference(sheet, min_col=min_column+1,max_col=max_column, min_row=min_row,max_row=max_row)\n",
    "categories = Reference(sheet, min_col=min_column,max_col=min_column, min_row=min_row+1,max_row=max_row)\n",
    "\n",
    "bar.add_data(data,titles_from_data=True)\n",
    "bar.set_categories(categories)\n",
    "\n",
    "#Create bar chart at B8\n",
    "sheet.add_chart(bar, \"B8\")\n",
    "\n",
    "bar.title = \"Sales by Product line\"\n",
    "bar.style = 5\n",
    "\n",
    "wb.save(\"Product_line_report.xlsx\")"
   ]
  },
  {
   "cell_type": "code",
   "execution_count": 21,
   "id": "edce033a",
   "metadata": {},
   "outputs": [],
   "source": [
    "wb = load_workbook(\"product_line_report.xlsx\")\n",
    "sheet = wb['Report']\n",
    "\n",
    "#Calculate the total for each product line at row 5\n",
    "for num in range(2,8):\n",
    "    char = get_column_letter(num)\n",
    "    sheet[char + str(5)] = f\"=SUM({char + str(3)}:{char + str(4)})\"\n",
    "        \n",
    "wb.save(\"product_line_report.xlsx\")"
   ]
  },
  {
   "cell_type": "code",
   "execution_count": null,
   "id": "f55ae7f3",
   "metadata": {},
   "outputs": [],
   "source": []
  }
 ],
 "metadata": {
  "kernelspec": {
   "display_name": "Python 3 (ipykernel)",
   "language": "python",
   "name": "python3"
  },
  "language_info": {
   "codemirror_mode": {
    "name": "ipython",
    "version": 3
   },
   "file_extension": ".py",
   "mimetype": "text/x-python",
   "name": "python",
   "nbconvert_exporter": "python",
   "pygments_lexer": "ipython3",
   "version": "3.11.4"
  }
 },
 "nbformat": 4,
 "nbformat_minor": 5
}
